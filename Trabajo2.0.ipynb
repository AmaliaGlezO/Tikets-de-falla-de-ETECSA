{
 "cells": [
  {
   "cell_type": "markdown",
   "metadata": {},
   "source": [
    "### Tikets de falla de ETECSA Mayabeque\n",
    "\n",
    "Aquí se analizarán los tikets de falla de etecsa y se verá cómo a partir de los tipos de tikets podemos llegar a una predicción del tiempo que demorará en solucionarse.\n"
   ]
  },
  {
   "cell_type": "markdown",
   "metadata": {},
   "source": [
    "#### Descripción de los Datos.\n",
    "Los datos han sido probistos por el centro de etecsa de mayabeque, son los resultados de los tikets de falla de 2022 y 2023 en todo el municipio. tenemos una muestra de 1448 tikets de falla repartidos entre los siguientes tipos:  \n",
    ".Fallo por Software: SW  \n",
    ".Fallo por Hadware:HW  \n",
    ".Fallo por Cable o Conectores:C  \n",
    ".Fallo por Corriente Alterna:AC\n",
    ".Fallo por Corriente Directa:DC  \n",
    ".Fallo Provocado por el Cliente:PC  \n",
    ".Fallo por Falta de Mantenimientos:MTTO  \n",
    ".Fallo por Alto nivel de Tráfico:AT  \n",
    ".Desaparecido:D  \n",
    ".Fallo por pruebas:P  \n",
    ".Baja Técnica:BT\n",
    "\n",
    "#### Aquí voy a describir qué significa cada fallo:\n"
   ]
  },
  {
   "cell_type": "code",
   "execution_count": 3,
   "metadata": {},
   "outputs": [
    {
     "name": "stdout",
     "output_type": "stream",
     "text": [
      "      SW  HW  C  AC  DC  PC  MTTO  AT  D  P  BT  Tg (min)\n",
      "0      1   0  0   0   0   0     0   0  0  0   0     14111\n",
      "1      1   0  0   0   0   0     0   0  0  0   0     14552\n",
      "2      1   0  0   0   0   0     0   0  0  0   0     26101\n",
      "3      1   0  0   0   0   0     0   0  0  0   0     37930\n",
      "4      0   1  0   0   0   0     0   0  0  0   0      4246\n",
      "...   ..  .. ..  ..  ..  ..   ...  .. .. ..  ..       ...\n",
      "1443   0   0  0   1   0   0     0   0  0  0   0       112\n",
      "1444   0   0  0   1   0   0     0   0  0  0   0       938\n",
      "1445   0   0  0   0   0   0     1   0  0  0   0    121984\n",
      "1446   0   0  0   0   1   0     0   0  0  0   0      1379\n",
      "1447   0   1  0   0   0   0     0   0  0  0   0      3917\n",
      "\n",
      "[1448 rows x 12 columns]\n",
      "                SW           HW            C           AC           DC  \\\n",
      "count  1448.000000  1448.000000  1448.000000  1448.000000  1448.000000   \n",
      "mean      0.118094     0.102210     0.013122     0.620856     0.017265   \n",
      "std       0.322831     0.303029     0.113835     0.485342     0.130303   \n",
      "min       0.000000     0.000000     0.000000     0.000000     0.000000   \n",
      "25%       0.000000     0.000000     0.000000     0.000000     0.000000   \n",
      "50%       0.000000     0.000000     0.000000     1.000000     0.000000   \n",
      "75%       0.000000     0.000000     0.000000     1.000000     0.000000   \n",
      "max       1.000000     1.000000     1.000000     1.000000     1.000000   \n",
      "\n",
      "                PC         MTTO           AT            D            P  \\\n",
      "count  1448.000000  1448.000000  1448.000000  1448.000000  1448.000000   \n",
      "mean      0.004834     0.102210     0.000691     0.013812     0.002072   \n",
      "std       0.069385     0.303029     0.026279     0.116751     0.045486   \n",
      "min       0.000000     0.000000     0.000000     0.000000     0.000000   \n",
      "25%       0.000000     0.000000     0.000000     0.000000     0.000000   \n",
      "50%       0.000000     0.000000     0.000000     0.000000     0.000000   \n",
      "75%       0.000000     0.000000     0.000000     0.000000     0.000000   \n",
      "max       1.000000     1.000000     1.000000     1.000000     1.000000   \n",
      "\n",
      "                BT       Tg (min)  \n",
      "count  1448.000000    1448.000000  \n",
      "mean      0.004834   22204.520718  \n",
      "std       0.069385   83676.569902  \n",
      "min       0.000000       0.000000  \n",
      "25%       0.000000     128.000000  \n",
      "50%       0.000000     323.000000  \n",
      "75%       0.000000    1697.500000  \n",
      "max       1.000000  703581.000000  \n"
     ]
    }
   ],
   "source": [
    "import pandas as pd\n",
    "\n",
    "# Cargar los datos, y mostrar los datos que yo usaré\n",
    "data = pd.read_csv('Tickets.csv')\n",
    "print(data[['SW', 'HW', 'C', 'AC', 'DC', 'PC', 'MTTO', 'AT', 'D', 'P', 'BT','Tg (min)']])\n",
    "print(data.describe())"
   ]
  },
  {
   "cell_type": "markdown",
   "metadata": {},
   "source": [
    "En este caso no tiene sentido analizar estadísticamente estas variables independientes: 'SW', 'HW', 'C', 'AC', 'DC', 'PC', 'MTTO', 'AT', 'D', 'P', 'BT' dado que son variables binarias. pero hemos llegado a resultados interesantes con Tg(min) que en mi base de datos son los tiempos que han demorado cada tiket en solucionarse.  \n",
    "Como podemos ver:  \n",
    "- Los tickets demoran un promedio de 22204.52 minutos sugiere que, en promedio, los tickets tardan alrededor de 15 dias en resolverse.  \n",
    "-La desviación estándar de 83676.57 minutos,alrededor de 58 días, indica una gran variabilidad en los tiempos de resolución, lo que puede ser un signo de outliers o una distribución sesgada. Esto indica que sacar conclusiones utilizando el promedio puede derivar en una interpretación erronea de los datos.\n",
    "-Pero podemos ver que el 75% de los tikets de falla se demoran en resolverse en 1697.50 minutos, alrededor de 28 horas. Es un cambio significativo con el promedio visto de antes. "
   ]
  }
 ],
 "metadata": {
  "kernelspec": {
   "display_name": "Python 3",
   "language": "python",
   "name": "python3"
  },
  "language_info": {
   "codemirror_mode": {
    "name": "ipython",
    "version": 3
   },
   "file_extension": ".py",
   "mimetype": "text/x-python",
   "name": "python",
   "nbconvert_exporter": "python",
   "pygments_lexer": "ipython3",
   "version": "3.12.4"
  }
 },
 "nbformat": 4,
 "nbformat_minor": 2
}
